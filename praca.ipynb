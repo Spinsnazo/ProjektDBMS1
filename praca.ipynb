{
 "cells": [
  {
   "cell_type": "code",
   "execution_count": 1,
   "id": "241fe390-a075-4c8d-b54c-d04ecbc30fc2",
   "metadata": {
    "tags": []
   },
   "outputs": [],
   "source": [
    "from main.czysc import czysc\n",
    "czysc()"
   ]
  },
  {
   "cell_type": "code",
   "execution_count": 3,
   "id": "3546e176-8738-43be-a1eb-6fe4fe4e3845",
   "metadata": {
    "tags": []
   },
   "outputs": [],
   "source": [
    "from main.buduj import buduj\n",
    "buduj()"
   ]
  },
  {
   "cell_type": "code",
   "execution_count": 4,
   "id": "66a9df07-e2e7-4d91-81e3-3607df3b35be",
   "metadata": {
    "tags": []
   },
   "outputs": [
    {
     "name": "stdin",
     "output_type": "stream",
     "text": [
      "Podaj nazwe pliku csv z klientami (z rozszerzeniem):  klienci.csv\n",
      "Podaj nazwe pliku csv z odczytami (z rozszerzeniem):  odczyty.csv\n"
     ]
    }
   ],
   "source": [
    "from main.importuj import importuj\n",
    "importuj()"
   ]
  },
  {
   "cell_type": "code",
   "execution_count": 6,
   "id": "05255c73-a01c-4d65-80f7-25798740eab9",
   "metadata": {},
   "outputs": [
    {
     "name": "stdin",
     "output_type": "stream",
     "text": [
      "Czy chcesz filtrować rekordy wg ID klienta (k), miejscowości odczytu (m) czy filtrować wg zużycia (z)?  k\n",
      "Prosze podac ID klienta:  101\n"
     ]
    },
    {
     "name": "stdout",
     "output_type": "stream",
     "text": [
      "Wybrane rekordy\n",
      "ID odczytu          Wartość             Data odczytu        Miejscowość         Ulica               Nr domu             Nr mieszkania       \n",
      "101                 1732                2023-07-01          Jaworzno            Boczna              20                  8                   \n"
     ]
    }
   ],
   "source": [
    "from main.analiza import analiza\n",
    "analiza()"
   ]
  },
  {
   "cell_type": "code",
   "execution_count": 7,
   "id": "4cf5894a-62f6-488c-948c-4e6886bad1da",
   "metadata": {
    "tags": []
   },
   "outputs": [
    {
     "name": "stdin",
     "output_type": "stream",
     "text": [
      "Czy chcesz filtrować rekordy wg ID klienta (k), miejscowości odczytu (m) czy filtrować wg zużycia (z)?  m\n",
      "Prosze podac nazwe miejscowosci:  Wrocław\n"
     ]
    },
    {
     "name": "stdout",
     "output_type": "stream",
     "text": [
      "Wybrane rekordy\n",
      "ID klienta          Imię                Nazwisko            ID odczytu          Wartosc             Data odczytu        Ulica               Nr domu             Nr mieszkania       \n",
      "1                   Marek               Nowak               1                   1277                2023-07-01          Olszynowa           6                   0                   \n",
      "5                   Paweł               Zalewski            5                   1955                2023-07-01          Sportowa            15                  1                   \n",
      "6                   Lukasz              Michalski           6                   1478                2023-07-01          Słoneczna           19                  16                  \n",
      "7                   Dawid               Zalewski            7                   1658                2023-07-01          Szkolna             15                  4                   \n",
      "8                   Łukasz              Michalak            8                   777                 2023-07-01          Królowej Jadwigi    14                  5                   \n",
      "13                  Adrian              Sikora              13                  1030                2023-07-01          Królowej Jadwigi    19                  15                  \n",
      "15                  Piotr               Kowalczyk           15                  983                 2023-07-01          Piastowska          10                  12                  \n",
      "18                  Łukasz              Kozłowski           18                  647                 2023-07-01          Słoneczna           13                  18                  \n",
      "20                  Tomasz              Pawlak              20                  1946                2023-07-01          Wiejska             10                  18                  \n",
      "24                  Andrzej             Ostrowski           24                  1143                2023-07-01          Jana Pawła II       2                   15                  \n",
      "41                  Bartek              Wieczorek           41                  1023                2023-07-01          Kwiatowa            6                   12                  \n",
      "48                  Mariusz             Wójcik              48                  771                 2023-07-01          Nadrzeczna          3                   9                   \n",
      "50                  Dominik             Krzyżewski          50                  740                 2023-07-01          Kopernika           2                   3                   \n",
      "54                  Aleksander          Marciniak           54                  1427                2023-07-01          Słowackiego         15                  4                   \n",
      "56                  Patryk              Kozłowski           56                  1261                2023-07-01          Wąska               5                   17                  \n",
      "60                  Karol               Kowalczyk           60                  1682                2023-07-01          Spokojna            3                   4                   \n",
      "69                  Rafał               Nowicki             69                  1182                2023-07-01          Wiejska             16                  13                  \n",
      "73                  Tomasz              Wróbel              73                  1478                2023-07-01          Lipowa              3                   20                  \n",
      "103                 Mariusz             Grabowski           103                 1590                2023-07-01          Mickiewicza         20                  14                  \n",
      "110                 Karol               Woźniak             110                 1579                2023-07-01          Miodowa             20                  14                  \n",
      "113                 Grzegorz            Kowalczyk           113                 714                 2023-07-01          Mazowiecka          2                   18                  \n",
      "120                 Tomasz              Jaworski            120                 695                 2023-07-01          Kwiatowa            15                  18                  \n",
      "129                 Witold              Baran               129                 874                 2023-07-01          Słoneczna           11                  3                   \n",
      "136                 Andrzej             Dudek               136                 1627                2023-07-01          Wyszyńskiego        14                  14                  \n",
      "139                 Witold              Krzyżewski          139                 1138                2023-07-01          Krakowska           13                  11                  \n",
      "142                 Zbigniew            Jankowski           142                 517                 2023-07-01          Ogrodowa            2                   1                   \n",
      "146                 Zbigniew            Szymański           146                 797                 2023-07-01          Mazowiecka          1                   13                  \n",
      "148                 Krzysztof           Kaczmarek           148                 531                 2023-07-01          Olszynowa           14                  18                  \n",
      "150                 Filip               Kowalski            150                 1434                2023-07-01          Wiejska             1                   6                   \n",
      "161                 Kamil               Baran               161                 641                 2023-07-01          Wesoła              9                   16                  \n",
      "168                 Łukasz              Górski              168                 1212                2023-07-01          Mickiewicza         14                  10                  \n",
      "173                 Andrzej             Kozłowski           173                 1680                2023-07-01          Długa               7                   20                  \n",
      "224                 Maciej              Kowalski            224                 1581                2023-07-01          Klonowa             13                  10                  \n",
      "232                 Marcin              Pietrzak            232                 581                 2023-07-01          Wąska               16                  14                  \n",
      "243                 Zdzisław            Zawadzki            243                 1154                2023-07-01          Krakowska           17                  5                   \n",
      "259                 Łukasz              Kaczmarek           259                 518                 2023-07-01          Nowa                11                  19                  \n",
      "268                 Łukasz              Kowalczyk           268                 1883                2023-07-01          Lipowa              6                   6                   \n",
      "270                 Norbert             Baran               270                 1734                2023-07-01          Wyszyńskiego        16                  2                   \n",
      "280                 Robert              Adamczyk            280                 1472                2023-07-01          Cicha               5                   14                  \n",
      "286                 Jan                 Kamiński            286                 718                 2023-07-01          Piastowska          11                  0                   \n",
      "300                 Mikołaj             Nowicki             300                 1901                2023-07-01          Miodowa             16                  6                   \n",
      "302                 Maciej              Nowicki             302                 1001                2023-07-01          Królowej Jadwigi    12                  2                   \n",
      "311                 Grzegorz            Krawczyk            311                 1571                2023-07-01          Kopernika           9                   2                   \n",
      "334                 Jan                 Zalewski            334                 1491                2023-07-01          Sikorskiego         13                  20                  \n",
      "342                 Mariusz             Zalewski            342                 783                 2023-07-01          Łąkowa              10                  17                  \n",
      "349                 Dawid               Rutkowski           349                 911                 2023-07-01          Nadrzeczna          7                   20                  \n",
      "374                 Karol               Malinowski          374                 2000                2023-07-01          Wyszyńskiego        13                  10                  \n",
      "380                 Łukasz              Zieliński           380                 1615                2023-07-01          Kasztanowa          12                  15                  \n",
      "422                 Aleksander          Olszewski           422                 1223                2023-07-01          Wesoła              1                   4                   \n",
      "431                 Adrian              Zając               431                 1485                2023-07-01          Kasprzaka           19                  8                   \n",
      "445                 Jan                 Jabłoński           445                 978                 2023-07-01          Miodowa             2                   19                  \n",
      "472                 Mariusz             Krawczyk            472                 1893                2023-07-01          Krótka              4                   10                  \n",
      "473                 Antoni              Nowak               473                 1949                2023-07-01          Łąkowa              18                  18                  \n",
      "483                 Łukasz              Jabłoński           483                 1609                2023-07-01          Różana              4                   0                   \n",
      "485                 Filip               Pawlowski           485                 1746                2023-07-01          Zamkowa             13                  3                   \n",
      "490                 Dominik             Kowalczyk           490                 1946                2023-07-01          Kasprzaka           14                  10                  \n",
      "501                 Zbigniew            Walczak             501                 1767                2023-07-01          Wojska Polskiego    3                   0                   \n",
      "512                 Grzegorz            Malinowski          512                 626                 2023-07-01          Mickiewicza         19                  20                  \n",
      "547                 Krzysztof           Krawczyk            547                 604                 2023-07-01          Spokojna            9                   11                  \n",
      "551                 Robert              Krzyżewski          551                 514                 2023-07-01          Szkolna             16                  17                  \n",
      "570                 Filip               Krawczyk            570                 1007                2023-07-01          Rynek               8                   11                  \n",
      "571                 Marek               Marciniak           571                 1565                2023-07-01          Krótka              7                   0                   \n",
      "578                 Michał              Ostrowski           578                 1418                2023-07-01          Nowa                20                  19                  \n",
      "586                 Robert              Zając               586                 1598                2023-07-01          Kopernika           5                   17                  \n",
      "588                 Robert              Król                588                 1951                2023-07-01          Spokojna            16                  14                  \n",
      "594                 Jarosław            Kowalski            594                 1090                2023-07-01          Wesoła              13                  13                  \n",
      "600                 Patryk              Kwiatkowski         600                 1501                2023-07-01          Słowackiego         6                   0                   \n",
      "647                 Paweł               Pawlak              647                 1151                2023-07-01          Kościuszki          18                  2                   \n",
      "679                 Norbert             Kaczmarek           679                 802                 2023-07-01          Kwiatowa            1                   12                  \n",
      "687                 Łukasz              Dąbrowski           687                 1760                2023-07-01          Sportowa            4                   8                   \n",
      "689                 Bartłomiej          Wiśniewski          689                 1457                2023-07-01          Władysława IV       6                   9                   \n",
      "705                 Jędrzej             Wójcik              705                 1865                2023-07-01          Zamkowa             20                  19                  \n",
      "720                 Lukasz              Sikora              720                 1010                2023-07-01          Długa               20                  7                   \n",
      "736                 Patryk              Wiśniewski          736                 1031                2023-07-01          Nadrzeczna          7                   19                  \n",
      "772                 Jakub               Lewandowski         772                 1923                2023-07-01          Wyszyńskiego        11                  19                  \n",
      "814                 Artur               Kaczmarek           814                 1991                2023-07-01          Kasprzaka           1                   4                   \n",
      "828                 Rafał               Olszewski           828                 1507                2023-07-01          Wolności            18                  13                  \n",
      "845                 Adrian              Majewski            845                 589                 2023-07-01          Łąkowa              14                  13                  \n",
      "851                 Jan                 Krawczyk            851                 1990                2023-07-01          Zamkowa             4                   18                  \n",
      "863                 Norbert             Marciniak           863                 1991                2023-07-01          Plac Wolności       16                  17                  \n",
      "878                 Andrzej             Nowicki             878                 1290                2023-07-01          Akacjowa            4                   9                   \n",
      "895                 Jan                 Grabowski           895                 1657                2023-07-01          Plac Wolności       8                   20                  \n",
      "899                 Lukasz              Szymański           899                 692                 2023-07-01          Miodowa             3                   0                   \n",
      "908                 Bartłomiej          Kowalski            908                 1380                2023-07-01          Władysława IV       12                  1                   \n",
      "909                 Waldemar            Michalak            909                 884                 2023-07-01          Wojska Polskiego    1                   12                  \n",
      "915                 Waldemar            Zalewski            915                 847                 2023-07-01          Wiejska             5                   12                  \n",
      "940                 Artur               Kwiatkowski         940                 556                 2023-07-01          Spokojna            11                  12                  \n",
      "941                 Maciej              Kamiński            941                 711                 2023-07-01          Sienkiewicza        18                  12                  \n",
      "951                 Norbert             Kwiatkowski         951                 979                 2023-07-01          Olszynowa           7                   3                   \n",
      "958                 Andrzej             Nowak               958                 877                 2023-07-01          Słowackiego         5                   2                   \n",
      "960                 Tomasz              Krzyżewski          960                 1893                2023-07-01          Wojska Polskiego    12                  4                   \n",
      "965                 Jędrzej             Jaworski            965                 1633                2023-07-01          Krótka              14                  0                   \n",
      "977                 Mariusz             Witkowski           977                 974                 2023-07-01          Krakowska           8                   9                   \n",
      "992                 Mateusz             Jaworski            992                 1541                2023-07-01          Różana              8                   13                  \n",
      "997                 Łukasz              Dudek               997                 945                 2023-07-01          Kościuszki          10                  0                   \n"
     ]
    }
   ],
   "source": [
    "analiza()"
   ]
  },
  {
   "cell_type": "code",
   "execution_count": 8,
   "id": "c164ccef-dd1e-4d7c-8fbf-d29499d20c17",
   "metadata": {
    "tags": []
   },
   "outputs": [
    {
     "name": "stdin",
     "output_type": "stream",
     "text": [
      "Czy chcesz filtrować rekordy wg ID klienta (k), miejscowości odczytu (m) czy filtrować wg zużycia (z)?  z\n"
     ]
    },
    {
     "name": "stdout",
     "output_type": "stream",
     "text": [
      "Opcje do wyboru: \n",
      "1.  >       większe niż\n",
      "2.  <       mniejsze niż\n",
      "3.  < x <   pomiędzy\n"
     ]
    },
    {
     "name": "stdin",
     "output_type": "stream",
     "text": [
      "Twój wybór:  3\n",
      "Wartosc 1:  500\n",
      "Wartosc 2:  600\n"
     ]
    },
    {
     "name": "stdout",
     "output_type": "stream",
     "text": [
      "Wybrane rekordy\n",
      "ID klienta          Imię                Nazwisko            ID odczytu          Wartosc             Data odczytu        Miejscowość         Ulica               Nr domu             Nr mieszkania       \n",
      "671                 Łukasz              Michalak            671                 503                 2023-07-01          Racibórz            Sportowa            7                   8                   \n",
      "209                 Patryk              Witkowski           209                 503                 2023-07-01          Gorzów Wielkopolski Jana Pawła II       5                   0                   \n",
      "646                 Krzysztof           Krzyżewski          646                 504                 2023-07-01          Jaworzno            Ogrodowa            9                   15                  \n",
      "592                 Adrian              Zieliński           592                 508                 2023-07-01          Głogów              Wyszyńskiego        9                   19                  \n",
      "829                 Łukasz              Woźniak             829                 508                 2023-07-01          Opole               Kasztanowa          4                   13                  \n",
      "551                 Robert              Krzyżewski          551                 514                 2023-07-01          Wrocław             Szkolna             16                  17                  \n",
      "500                 Tomasz              Zając               500                 514                 2023-07-01          Jaworzno            Akacjowa            13                  13                  \n",
      "936                 Łukasz              Marciniak           936                 517                 2023-07-01          Opole               Krótka              15                  2                   \n",
      "142                 Zbigniew            Jankowski           142                 517                 2023-07-01          Wrocław             Ogrodowa            2                   1                   \n",
      "259                 Łukasz              Kaczmarek           259                 518                 2023-07-01          Wrocław             Nowa                11                  19                  \n",
      "762                 Norbert             Wójcik              762                 519                 2023-07-01          Opole               Wąska               20                  6                   \n",
      "810                 Bartłomiej          Kwiatkowski         810                 520                 2023-07-01          Opole               Wolności            3                   10                  \n",
      "670                 Mariusz             Tomaszewski         670                 521                 2023-07-01          Głogów              Kasprzaka           6                   3                   \n",
      "833                 Łukasz              Pawlowski           833                 522                 2023-07-01          Zielona Góra        Kwiatowa            17                  6                   \n",
      "982                 Waldemar            Wójcik              982                 524                 2023-07-01          Jaworzno            Sikorskiego         20                  20                  \n",
      "84                  Łukasz              Wróblewski          84                  524                 2023-07-01          Głogów              Łąkowa              7                   9                   \n",
      "546                 Mikołaj             Zieliński           546                 525                 2023-07-01          Racibórz            Lipowa              1                   19                  \n",
      "145                 Witold              Krzyżewski          145                 526                 2023-07-01          Zielona Góra        Nowa                14                  2                   \n",
      "824                 Robert              Kamiński            824                 526                 2023-07-01          Wałbrzych           Sikorskiego         3                   15                  \n",
      "167                 Łukasz              Kozłowski           167                 530                 2023-07-01          Jastrzębie-Zdrój    Polna               4                   17                  \n",
      "274                 Grzegorz            Jaworski            274                 530                 2023-07-01          Głogów              Krótka              5                   15                  \n",
      "148                 Krzysztof           Kaczmarek           148                 531                 2023-07-01          Wrocław             Olszynowa           14                  18                  \n",
      "87                  Waldemar            Górski              87                  536                 2023-07-01          Opole               Kościuszki          15                  17                  \n",
      "330                 Filip               Rutkowski           330                 541                 2023-07-01          Jaworzno            Dworcowa            13                  9                   \n",
      "836                 Norbert             Wieczorek           836                 541                 2023-07-01          Racibórz            Kasztanowa          5                   4                   \n",
      "887                 Maciej              Woźniak             887                 544                 2023-07-01          Racibórz            Plac Wolności       1                   10                  \n",
      "178                 Dawid               Woźniak             178                 544                 2023-07-01          Głogów              Paderewskiego       14                  5                   \n",
      "359                 Witold              Wróblewski          359                 545                 2023-07-01          Racibórz            Sobieskiego         14                  17                  \n",
      "267                 Michał              Grabowski           267                 546                 2023-07-01          Zielona Góra        Kwiatowa            19                  8                   \n",
      "508                 Robert              Marciniak           508                 549                 2023-07-01          Gorzów Wielkopolski Władysława IV       2                   2                   \n",
      "748                 Łukasz              Michalski           748                 549                 2023-07-01          Legnica             Paderewskiego       6                   4                   \n",
      "112                 Rafał               Górski              112                 550                 2023-07-01          Zielona Góra        Kościelna           10                  19                  \n",
      "668                 Adrian              Kaczmarek           668                 552                 2023-07-01          Legnica             Piastowska          13                  14                  \n",
      "631                 Łukasz              Wiśniewski          631                 553                 2023-07-01          Racibórz            Dworcowa            14                  3                   \n",
      "548                 Jędrzej             Krzyżewski          548                 555                 2023-07-01          Legnica             Krótka              13                  17                  \n",
      "940                 Artur               Kwiatkowski         940                 556                 2023-07-01          Wrocław             Spokojna            11                  12                  \n",
      "852                 Adrian              Pietrzak            852                 557                 2023-07-01          Opole               Młyńska             1                   3                   \n",
      "76                  Marek               Nowak               76                  559                 2023-07-01          Głogów              Słoneczna           1                   12                  \n",
      "207                 Bartek              Zawadzki            207                 563                 2023-07-01          Opole               Paderewskiego       6                   2                   \n",
      "418                 Robert              Olszewski           418                 564                 2023-07-01          Jaworzno            Mazowiecka          11                  15                  \n",
      "532                 Dominik             Majewski            532                 564                 2023-07-01          Gorzów Wielkopolski Polna               9                   15                  \n",
      "798                 Łukasz              Zalewski            798                 565                 2023-07-01          Racibórz            Wolności            1                   16                  \n",
      "17                  Sebastian           Witkowski           17                  566                 2023-07-01          Jastrzębie-Zdrój    Łąkowa              17                  5                   \n",
      "321                 Mateusz             Górski              321                 566                 2023-07-01          Głogów              Leśna               19                  18                  \n",
      "322                 Tomasz              Krzyżewski          322                 566                 2023-07-01          Racibórz            Rynek               10                  14                  \n",
      "397                 Karol               Pawlowski           397                 568                 2023-07-01          Zielona Góra        Kasztanowa          10                  10                  \n",
      "900                 Rafał               Walczak             900                 568                 2023-07-01          Legnica             Cicha               18                  20                  \n",
      "557                 Mariusz             Jaworski            557                 569                 2023-07-01          Legnica             Nadrzeczna          13                  19                  \n",
      "283                 Piotr               Wróbel              283                 570                 2023-07-01          Legnica             Sobieskiego         17                  3                   \n",
      "210                 Arkadiusz           Jaworski            210                 570                 2023-07-01          Zielona Góra        Krakowska           7                   20                  \n",
      "872                 Dawid               Mazur               872                 573                 2023-07-01          Jastrzębie-Zdrój    Wojska Polskiego    1                   9                   \n",
      "866                 Lukasz              Szymański           866                 573                 2023-07-01          Zielona Góra        Zamkowa             20                  13                  \n",
      "781                 Norbert             Kamiński            781                 574                 2023-07-01          Gorzów Wielkopolski Kopernika           3                   2                   \n",
      "179                 Tomasz              Malinowski          179                 579                 2023-07-01          Jastrzębie-Zdrój    Sobieskiego         9                   18                  \n",
      "683                 Michał              Stępień             683                 580                 2023-07-01          Głogów              Wolności            6                   7                   \n",
      "232                 Marcin              Pietrzak            232                 581                 2023-07-01          Wrocław             Wąska               16                  14                  \n",
      "971                 Maciej              Majewski            971                 582                 2023-07-01          Legnica             Wojska Polskiego    11                  17                  \n",
      "240                 Jan                 Kozłowski           240                 583                 2023-07-01          Głogów              Mickiewicza         18                  13                  \n",
      "995                 Paweł               Zieliński           995                 584                 2023-07-01          Głogów              Kasztanowa          1                   19                  \n",
      "237                 Marcin              Kamiński            237                 584                 2023-07-01          Opole               Plac Wolności       7                   13                  \n",
      "845                 Adrian              Majewski            845                 589                 2023-07-01          Wrocław             Łąkowa              14                  13                  \n",
      "293                 Adam                Walczak             293                 590                 2023-07-01          Racibórz            Olszynowa           5                   19                  \n",
      "875                 Szymon              Wróbel              875                 590                 2023-07-01          Gorzów Wielkopolski Słoneczna           15                  20                  \n",
      "355                 Andrzej             Tomaszewski         355                 591                 2023-07-01          Jastrzębie-Zdrój    Wesoła              5                   5                   \n",
      "667                 Kamil               Pawlowski           667                 591                 2023-07-01          Racibórz            Słowackiego         20                  3                   \n",
      "487                 Norbert             Kowalski            487                 591                 2023-07-01          Legnica             Kościuszki          7                   1                   \n",
      "425                 Hubert              Pawlowski           425                 592                 2023-07-01          Opole               Boczna              6                   16                  \n",
      "464                 Łukasz              Kwiatkowski         464                 598                 2023-07-01          Jaworzno            Szkolna             7                   5                   \n"
     ]
    }
   ],
   "source": [
    "analiza()"
   ]
  },
  {
   "cell_type": "code",
   "execution_count": 9,
   "id": "33acd7a7-de35-4ea3-8dec-987b7c5304d3",
   "metadata": {
    "tags": []
   },
   "outputs": [
    {
     "name": "stdin",
     "output_type": "stream",
     "text": [
      "Czy chcesz filtrować rekordy wg ID klienta (k), miejscowości odczytu (m) czy filtrować wg zużycia (z)?  z\n"
     ]
    },
    {
     "name": "stdout",
     "output_type": "stream",
     "text": [
      "Opcje do wyboru: \n",
      "1.  >       większe niż\n",
      "2.  <       mniejsze niż\n",
      "3.  < x <   pomiędzy\n"
     ]
    },
    {
     "name": "stdin",
     "output_type": "stream",
     "text": [
      "Twój wybór:  3\n",
      "Wartosc 1:  600\n",
      "Wartosc 2:  620\n"
     ]
    },
    {
     "name": "stdout",
     "output_type": "stream",
     "text": [
      "Wybrane rekordy\n",
      "ID klienta          Imię                Nazwisko            ID odczytu          Wartosc             Data odczytu        Miejscowość         Ulica               Nr domu             Nr mieszkania       \n",
      "645                 Filip               Adamczyk            645                 602                 2023-07-01          Wałbrzych           Wąska               10                  12                  \n",
      "389                 Szymon              Sikora              389                 603                 2023-07-01          Jaworzno            Plac Wolności       14                  7                   \n",
      "547                 Krzysztof           Krawczyk            547                 604                 2023-07-01          Wrocław             Spokojna            9                   11                  \n",
      "134                 Mariusz             Kaczmarek           134                 606                 2023-07-01          Opole               Boczna              5                   13                  \n",
      "768                 Paweł               Wójcik              768                 606                 2023-07-01          Zielona Góra        Szkolna             15                  14                  \n",
      "404                 Patryk              Wieczorek           404                 608                 2023-07-01          Opole               Jana Pawła II       4                   6                   \n",
      "470                 Kamil               Kaczmarek           470                 609                 2023-07-01          Opole               Lipowa              10                  19                  \n",
      "843                 Łukasz              Kowalczyk           843                 609                 2023-07-01          Jaworzno            Łąkowa              1                   12                  \n",
      "847                 Grzegorz            Wróbel              847                 610                 2023-07-01          Jaworzno            Lipowa              3                   19                  \n",
      "952                 Jarosław            Michalak            952                 612                 2023-07-01          Gorzów Wielkopolski Różana              19                  2                   \n",
      "204                 Dawid               Mazur               204                 614                 2023-07-01          Głogów              Piastowska          5                   14                  \n",
      "408                 Dominik             Marciniak           408                 617                 2023-07-01          Opole               Władysława IV       2                   9                   \n",
      "905                 Andrzej             Lewandowski         905                 618                 2023-07-01          Gorzów Wielkopolski Kasztanowa          5                   17                  \n",
      "684                 Jacek               Baran               684                 619                 2023-07-01          Głogów              Zamkowa             2                   15                  \n"
     ]
    }
   ],
   "source": [
    "analiza()"
   ]
  },
  {
   "cell_type": "code",
   "execution_count": 10,
   "id": "3a11b743-1c46-45b3-adc7-8db530d5750b",
   "metadata": {
    "tags": []
   },
   "outputs": [
    {
     "name": "stdin",
     "output_type": "stream",
     "text": [
      "Czy chcesz filtrować rekordy wg ID klienta (k), miejscowości odczytu (m) czy filtrować wg zużycia (z)?  z\n"
     ]
    },
    {
     "name": "stdout",
     "output_type": "stream",
     "text": [
      "Opcje do wyboru: \n",
      "1.  >       większe niż\n",
      "2.  <       mniejsze niż\n",
      "3.  < x <   pomiędzy\n"
     ]
    },
    {
     "name": "stdin",
     "output_type": "stream",
     "text": [
      "Twój wybór:  2\n",
      "Wartosc 1:  520\n"
     ]
    },
    {
     "name": "stdout",
     "output_type": "stream",
     "text": [
      "Wybrane rekordy\n",
      "ID klienta          Imię                Nazwisko            ID odczytu          Wartosc             Data odczytu        Miejscowość         Ulica               Nr domu             Nr mieszkania       \n",
      "671                 Łukasz              Michalak            671                 503                 2023-07-01          Racibórz            Sportowa            7                   8                   \n",
      "209                 Patryk              Witkowski           209                 503                 2023-07-01          Gorzów Wielkopolski Jana Pawła II       5                   0                   \n",
      "646                 Krzysztof           Krzyżewski          646                 504                 2023-07-01          Jaworzno            Ogrodowa            9                   15                  \n",
      "592                 Adrian              Zieliński           592                 508                 2023-07-01          Głogów              Wyszyńskiego        9                   19                  \n",
      "829                 Łukasz              Woźniak             829                 508                 2023-07-01          Opole               Kasztanowa          4                   13                  \n",
      "500                 Tomasz              Zając               500                 514                 2023-07-01          Jaworzno            Akacjowa            13                  13                  \n",
      "551                 Robert              Krzyżewski          551                 514                 2023-07-01          Wrocław             Szkolna             16                  17                  \n",
      "936                 Łukasz              Marciniak           936                 517                 2023-07-01          Opole               Krótka              15                  2                   \n",
      "142                 Zbigniew            Jankowski           142                 517                 2023-07-01          Wrocław             Ogrodowa            2                   1                   \n",
      "259                 Łukasz              Kaczmarek           259                 518                 2023-07-01          Wrocław             Nowa                11                  19                  \n",
      "762                 Norbert             Wójcik              762                 519                 2023-07-01          Opole               Wąska               20                  6                   \n"
     ]
    }
   ],
   "source": [
    "analiza()"
   ]
  },
  {
   "cell_type": "code",
   "execution_count": 11,
   "id": "c84dd797-827c-4466-9078-75f2297fb7ba",
   "metadata": {
    "tags": []
   },
   "outputs": [
    {
     "data": {
      "image/png": "[encoded data removed]",
      "text/plain": [
       "<Figure size 640x480 with 1 Axes>"
      ]
     },
     "metadata": {},
     "output_type": "display_data"
    }
   ],
   "source": [
    "from main.raport import raport\n",
    "raport()"
   ]
  },
  {
   "cell_type": "code",
   "execution_count": null,
   "id": "a8d2c95f-ae94-4cdb-9e54-1697011c673e",
   "metadata": {},
   "outputs": [],
   "source": []
  }
 ],
 "metadata": {
  "kernelspec": {
   "display_name": "DBMS1 (SQLAlchemy)",
   "language": "python",
   "name": "dbms1"
  },
  "language_info": {
   "codemirror_mode": {
    "name": "ipython",
    "version": 3
   },
   "file_extension": ".py",
   "mimetype": "text/x-python",
   "name": "python",
   "nbconvert_exporter": "python",
   "pygments_lexer": "ipython3",
   "version": "3.11.2"
  }
 },
 "nbformat": 4,
 "nbformat_minor": 5
}
